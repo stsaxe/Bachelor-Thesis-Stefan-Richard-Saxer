{
 "cells": [
  {
   "cell_type": "markdown",
   "source": [
    "# Midterm Presentation (23.05.2024)"
   ],
   "metadata": {
    "collapsed": false
   },
   "id": "45ed0c3a20b4e16a"
  },
  {
   "cell_type": "code",
   "outputs": [],
   "source": [
    "import sys\n",
    "sys.path.insert(0, '..')\n",
    "\n",
    "import pandas as pd\n",
    "import numpy as np\n",
    "from src import Task, TaskGroup, Flag\n",
    "from src.pre_processing.interfaces.executor_interface import ExecutorInterface\n",
    "\n",
    "import warnings\n",
    "warnings.filterwarnings(\"ignore\")"
   ],
   "metadata": {
    "collapsed": false,
    "ExecuteTime": {
     "end_time": "2024-05-09T14:36:28.537209600Z",
     "start_time": "2024-05-09T14:36:27.564985600Z"
    }
   },
   "id": "8c4d7ddd6a35da70",
   "execution_count": 1
  },
  {
   "cell_type": "code",
   "outputs": [
    {
     "name": "stdout",
     "output_type": "stream",
     "text": [
      "1 0 0 0 0\n",
      "0 1 0 0 0\n",
      "0 0 1 0 0\n",
      "0 0 0 1 0\n",
      "0 0 0 0 1\n"
     ]
    }
   ],
   "source": [
    "matrix = pd.DataFrame(np.identity(5, dtype=int), columns=[0, 1, 2, 4, 5])\n",
    "\n",
    "def plot(df):\n",
    "    print(df.to_string(index=False, header=False))\n",
    "    \n",
    "plot(matrix)"
   ],
   "metadata": {
    "collapsed": false,
    "ExecuteTime": {
     "end_time": "2024-05-09T14:36:28.554200100Z",
     "start_time": "2024-05-09T14:36:28.536209Z"
    }
   },
   "id": "3980eb0753bd4545",
   "execution_count": 2
  },
  {
   "cell_type": "code",
   "outputs": [
    {
     "name": "stdout",
     "output_type": "stream",
     "text": [
      "4 1 1 1 1\n",
      "1 4 1 1 1\n",
      "1 1 4 1 1\n",
      "1 1 1 4 1\n",
      "1 1 1 1 4\n"
     ]
    }
   ],
   "source": [
    "result = 3 * matrix + 1\n",
    "plot(result)"
   ],
   "metadata": {
    "collapsed": false,
    "ExecuteTime": {
     "end_time": "2024-05-09T14:36:28.554951800Z",
     "start_time": "2024-05-09T14:36:28.543340300Z"
    }
   },
   "id": "707f3043185eb08a",
   "execution_count": 3
  },
  {
   "cell_type": "code",
   "outputs": [
    {
     "name": "stdout",
     "output_type": "stream",
     "text": [
      "4 1 1 1 1\n",
      "1 4 1 1 1\n",
      "1 1 4 1 1\n",
      "1 1 1 4 1\n",
      "1 1 1 1 4\n"
     ]
    }
   ],
   "source": [
    "class Slope(ExecutorInterface):\n",
    "    def execute(self, dataToProcess: pd.DataFrame) -> pd.DataFrame:\n",
    "        return  3 * dataToProcess\n",
    "\n",
    "class Constant(ExecutorInterface):\n",
    "    def __init__(self, constant: int):\n",
    "        self.constant = constant\n",
    "        \n",
    "    def execute(self, dataToProcess: pd.DataFrame) -> pd.DataFrame:\n",
    "        return self.constant + dataToProcess\n",
    "    \n",
    "result = Slope().execute(matrix)\n",
    "result = Constant(1).execute(result)\n",
    "\n",
    "plot(result)"
   ],
   "metadata": {
    "collapsed": false,
    "ExecuteTime": {
     "end_time": "2024-05-09T14:36:28.554951800Z",
     "start_time": "2024-05-09T14:36:28.547137700Z"
    }
   },
   "id": "7dc30b5e1ed48350",
   "execution_count": 4
  },
  {
   "cell_type": "code",
   "outputs": [
    {
     "name": "stdout",
     "output_type": "stream",
     "text": [
      "4 1 1 1 1\n",
      "1 4 1 1 1\n",
      "1 1 4 1 1\n",
      "1 1 1 4 1\n",
      "1 1 1 1 4\n"
     ]
    }
   ],
   "source": [
    "task_slope = Task(name = \"Slope\", executor=Slope())\n",
    "task_constant = Task(name = \"Constant\", executor=Constant(1))\n",
    "\n",
    "result = task_slope.execute(matrix)\n",
    "result = task_constant.execute(result)\n",
    "\n",
    "plot(result)"
   ],
   "metadata": {
    "collapsed": false,
    "ExecuteTime": {
     "end_time": "2024-05-09T14:36:28.556958600Z",
     "start_time": "2024-05-09T14:36:28.552192500Z"
    }
   },
   "id": "88f3d0db5a9f838",
   "execution_count": 5
  },
  {
   "cell_type": "code",
   "outputs": [
    {
     "name": "stdout",
     "output_type": "stream",
     "text": [
      "Linear Function\n",
      "\t1 Slope\n",
      "\t2 Constant\n"
     ]
    }
   ],
   "source": [
    "task_slope = Task(name = \"Slope\", executor=Slope(), priority=1)\n",
    "task_constant = Task(name = \"Constant\", executor=Constant(1), priority=2)\n",
    "\n",
    "task_group = TaskGroup(\"Linear Function\")\n",
    "task_group.addAll([task_constant, task_slope])\n",
    "\n",
    "task_group.print(priority=True)"
   ],
   "metadata": {
    "collapsed": false,
    "ExecuteTime": {
     "end_time": "2024-05-09T14:36:28.571506600Z",
     "start_time": "2024-05-09T14:36:28.556958600Z"
    }
   },
   "id": "d49f5ce7513c5a35",
   "execution_count": 6
  },
  {
   "cell_type": "code",
   "outputs": [
    {
     "name": "stdout",
     "output_type": "stream",
     "text": [
      "4 1 1 1 1\n",
      "1 4 1 1 1\n",
      "1 1 4 1 1\n",
      "1 1 1 4 1\n",
      "1 1 1 1 4\n"
     ]
    }
   ],
   "source": [
    "result = task_group.execute(matrix)\n",
    "plot(result)"
   ],
   "metadata": {
    "collapsed": false,
    "ExecuteTime": {
     "end_time": "2024-05-09T14:36:28.621637300Z",
     "start_time": "2024-05-09T14:36:28.560315100Z"
    }
   },
   "id": "57bc45912e0dd8a3",
   "execution_count": 7
  },
  {
   "cell_type": "code",
   "outputs": [
    {
     "name": "stdout",
     "output_type": "stream",
     "text": [
      "Linear Function\n",
      "\t1 Slope: Flag_Slope\n",
      "\t2 Constant: Flag_Constant\n"
     ]
    }
   ],
   "source": [
    "flag_slope = Flag(name = \"Flag_Slope\")\n",
    "flag_constant = Flag(name = \"Flag_Constant\")\n",
    "\n",
    "task_slope = Task(name = \"Slope\", executor=Slope(), priority=1, flags=flag_slope)\n",
    "task_constant = Task(name = \"Constant\", executor=Constant(1), priority=2, flags=flag_constant)\n",
    "\n",
    "task_group = TaskGroup(name = \"Linear Function\")\n",
    "task_group.addAll([task_constant, task_slope])\n",
    "\n",
    "task_group.print(priority=True, flags=True)"
   ],
   "metadata": {
    "collapsed": false,
    "ExecuteTime": {
     "end_time": "2024-05-09T14:36:28.621637300Z",
     "start_time": "2024-05-09T14:36:28.564359900Z"
    }
   },
   "id": "6770a0e0e5140e70",
   "execution_count": 8
  },
  {
   "cell_type": "code",
   "outputs": [
    {
     "name": "stdout",
     "output_type": "stream",
     "text": [
      "3 0 0 0 0\n",
      "0 3 0 0 0\n",
      "0 0 3 0 0\n",
      "0 0 0 3 0\n",
      "0 0 0 0 3\n"
     ]
    }
   ],
   "source": [
    "result = task_group.process(matrix, flag_slope)\n",
    "plot(result)"
   ],
   "metadata": {
    "collapsed": false,
    "ExecuteTime": {
     "end_time": "2024-05-09T14:36:28.622642400Z",
     "start_time": "2024-05-09T14:36:28.567109900Z"
    }
   },
   "id": "dc692d8db09afce",
   "execution_count": 9
  },
  {
   "cell_type": "code",
   "outputs": [
    {
     "name": "stdout",
     "output_type": "stream",
     "text": [
      "2 1 1 1 1\n",
      "1 2 1 1 1\n",
      "1 1 2 1 1\n",
      "1 1 1 2 1\n",
      "1 1 1 1 2\n"
     ]
    }
   ],
   "source": [
    "result = task_group.process(matrix, flag_constant)\n",
    "plot(result)"
   ],
   "metadata": {
    "collapsed": false,
    "ExecuteTime": {
     "end_time": "2024-05-09T14:36:28.623643Z",
     "start_time": "2024-05-09T14:36:28.572671800Z"
    }
   },
   "id": "499e59e70b508ee0",
   "execution_count": 10
  },
  {
   "cell_type": "code",
   "outputs": [
    {
     "name": "stdout",
     "output_type": "stream",
     "text": [
      "4 1 1 1 1\n",
      "1 4 1 1 1\n",
      "1 1 4 1 1\n",
      "1 1 1 4 1\n",
      "1 1 1 1 4\n"
     ]
    }
   ],
   "source": [
    "flag_linear_function = Flag(name=\"Flag_Linear_Function\", parents=[flag_slope, flag_constant])\n",
    "\n",
    "result = task_group.process(matrix, flag_linear_function)\n",
    "plot(result)"
   ],
   "metadata": {
    "collapsed": false,
    "ExecuteTime": {
     "end_time": "2024-05-09T14:36:28.623643Z",
     "start_time": "2024-05-09T14:36:28.573176Z"
    }
   },
   "id": "9c37a8ba9a7e904d",
   "execution_count": 11
  }
 ],
 "metadata": {
  "kernelspec": {
   "display_name": "Python 3",
   "language": "python",
   "name": "python3"
  },
  "language_info": {
   "codemirror_mode": {
    "name": "ipython",
    "version": 2
   },
   "file_extension": ".py",
   "mimetype": "text/x-python",
   "name": "python",
   "nbconvert_exporter": "python",
   "pygments_lexer": "ipython2",
   "version": "2.7.6"
  }
 },
 "nbformat": 4,
 "nbformat_minor": 5
}
